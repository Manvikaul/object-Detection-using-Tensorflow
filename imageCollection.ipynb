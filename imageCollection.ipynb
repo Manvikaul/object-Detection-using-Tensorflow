{
 "cells": [
  {
   "cell_type": "code",
   "execution_count": 1,
   "id": "c39c8c85",
   "metadata": {},
   "outputs": [
    {
     "name": "stdout",
     "output_type": "stream",
     "text": [
      "Collecting opencv-python\n",
      "  Using cached opencv_python-4.6.0.66-cp36-abi3-win_amd64.whl (35.6 MB)\n",
      "Collecting numpy>=1.17.3\n",
      "  Using cached numpy-1.23.3-cp39-cp39-win_amd64.whl (14.7 MB)\n",
      "Installing collected packages: numpy, opencv-python\n",
      "Successfully installed numpy-1.23.3 opencv-python-4.6.0.66\n"
     ]
    }
   ],
   "source": [
    "!pip install opencv-python"
   ]
  },
  {
   "cell_type": "code",
   "execution_count": 2,
   "id": "d03b419f",
   "metadata": {},
   "outputs": [],
   "source": [
    "import cv2 \n",
    "import uuid\n",
    "import os\n",
    "import time"
   ]
  },
  {
   "cell_type": "code",
   "execution_count": 3,
   "id": "25f6513d",
   "metadata": {},
   "outputs": [],
   "source": [
    "labels = ['thumbsup', 'thumbsdown', 'thankyou', 'livelong']\n",
    "number_imgs = 5"
   ]
  },
  {
   "cell_type": "code",
   "execution_count": 8,
   "id": "2b04893b",
   "metadata": {},
   "outputs": [],
   "source": [
    "IMAGES_PATH = os.path.join('Tensorflow', 'workspace', 'images', 'collectedimages') "
   ]
  },
  {
   "cell_type": "code",
   "execution_count": 9,
   "id": "25e0f49a",
   "metadata": {},
   "outputs": [],
   "source": [
    "if not os.path.exists(IMAGES_PATH):\n",
    "    if os.name == 'posix':\n",
    "        !mkdir -p {IMAGES_PATH}\n",
    "    if os.name == 'nt':\n",
    "         !mkdir {IMAGES_PATH}\n",
    "for label in labels:\n",
    "    path = os.path.join(IMAGES_PATH, label)\n",
    "    if not os.path.exists(path):\n",
    "        !mkdir {path}"
   ]
  },
  {
   "cell_type": "code",
   "execution_count": 15,
   "id": "48b07bb9",
   "metadata": {},
   "outputs": [
    {
     "name": "stdout",
     "output_type": "stream",
     "text": [
      "Collecting images for thumbsup\n",
      "Collecting image 0\n",
      "Collecting image 1\n",
      "Collecting image 2\n",
      "Collecting image 3\n",
      "Collecting image 4\n",
      "Collecting images for thumbsdown\n",
      "Collecting image 0\n",
      "Collecting image 1\n",
      "Collecting image 2\n",
      "Collecting image 3\n",
      "Collecting image 4\n",
      "Collecting images for thankyou\n",
      "Collecting image 0\n",
      "Collecting image 1\n",
      "Collecting image 2\n",
      "Collecting image 3\n",
      "Collecting image 4\n",
      "Collecting images for livelong\n",
      "Collecting image 0\n",
      "Collecting image 1\n",
      "Collecting image 2\n",
      "Collecting image 3\n",
      "Collecting image 4\n"
     ]
    }
   ],
   "source": [
    "for label in labels:\n",
    "    cap = cv2.VideoCapture(0)\n",
    "    print('Collecting images for {}'.format(label))\n",
    "    time.sleep(10)\n",
    "    for imgnum in range(number_imgs):\n",
    "        print('Collecting image {}'.format(imgnum))\n",
    "        ret, frame = cap.read()\n",
    "        imgname = os.path.join(IMAGES_PATH,label,label+'.'+'{}.jpg'.format(str(uuid.uuid1())))\n",
    "        cv2.imwrite(imgname, frame)\n",
    "        cv2.imshow('frame', frame)\n",
    "        time.sleep(3)\n",
    "\n",
    "        if cv2.waitKey(1) & 0xFF == ord('q'):\n",
    "            break\n",
    "cap.release()\n",
    "cv2.destroyAllWindows()"
   ]
  },
  {
   "cell_type": "code",
   "execution_count": 12,
   "id": "d3b7689f",
   "metadata": {},
   "outputs": [
    {
     "name": "stdout",
     "output_type": "stream",
     "text": [
      "Collecting pyqt5\n",
      "  Downloading PyQt5-5.15.7-cp37-abi3-win_amd64.whl (6.8 MB)\n",
      "     ---------------------------------------- 6.8/6.8 MB 1.6 MB/s eta 0:00:00\n",
      "Collecting lxml\n",
      "  Downloading lxml-4.9.1-cp39-cp39-win_amd64.whl (3.6 MB)\n",
      "     ---------------------------------------- 3.6/3.6 MB 1.7 MB/s eta 0:00:00\n",
      "Collecting PyQt5-Qt5>=5.15.0\n",
      "  Downloading PyQt5_Qt5-5.15.2-py3-none-win_amd64.whl (50.1 MB)\n",
      "     -------------------------------------- 50.1/50.1 MB 857.3 kB/s eta 0:00:00\n",
      "Collecting PyQt5-sip<13,>=12.11\n",
      "  Downloading PyQt5_sip-12.11.0-cp39-cp39-win_amd64.whl (78 kB)\n",
      "     -------------------------------------- 78.3/78.3 kB 544.5 kB/s eta 0:00:00\n",
      "Installing collected packages: PyQt5-Qt5, PyQt5-sip, lxml, pyqt5\n",
      "Successfully installed PyQt5-Qt5-5.15.2 PyQt5-sip-12.11.0 lxml-4.9.1 pyqt5-5.15.7\n"
     ]
    }
   ],
   "source": [
    "!pip install --upgrade pyqt5 lxml"
   ]
  },
  {
   "cell_type": "code",
   "execution_count": 14,
   "id": "c6958df7",
   "metadata": {},
   "outputs": [],
   "source": [
    "LABELIMG_PATH = os.path.join('Tensorflow', 'labelimg')"
   ]
  },
  {
   "cell_type": "code",
   "execution_count": 16,
   "id": "ab6883af",
   "metadata": {},
   "outputs": [
    {
     "name": "stderr",
     "output_type": "stream",
     "text": [
      "Cloning into 'Tensorflow\\labelimg'...\n"
     ]
    }
   ],
   "source": [
    "if not os.path.exists(LABELIMG_PATH):\n",
    "    !mkdir {LABELIMG_PATH}\n",
    "    !git clone https://github.com/tzutalin/labelImg {LABELIMG_PATH}"
   ]
  },
  {
   "cell_type": "code",
   "execution_count": 18,
   "id": "5336ecab",
   "metadata": {},
   "outputs": [],
   "source": [
    "if os.name == 'posix':\n",
    "    !cd {LABELIMG_PATH} && make pyrcc5\n",
    "if os.name =='nt':\n",
    "    !cd {LABELIMG_PATH} && pyrcc5 -o libs/resources.py resources.qrc"
   ]
  },
  {
   "cell_type": "code",
   "execution_count": 19,
   "id": "4d1ff35d",
   "metadata": {},
   "outputs": [
    {
     "name": "stdout",
     "output_type": "stream",
     "text": [
      "Image:C:\\Users\\DELL\\tensorflow_obj_detection\\object-Detection-using-Tensorflow\\Tensorflow\\workspace\\images\\collectedimages\\livelong\\livelong.37ed6d29-3765-11ed-8b4d-780cb8584cd2.jpg -> Annotation:C:/Users/DELL/tensorflow_obj_detection/object-Detection-using-Tensorflow/Tensorflow/workspace/images/collectedimages/livelong\\livelong.37ed6d29-3765-11ed-8b4d-780cb8584cd2.xml\n",
      "Image:C:\\Users\\DELL\\tensorflow_obj_detection\\object-Detection-using-Tensorflow\\Tensorflow\\workspace\\images\\collectedimages\\livelong\\livelong.39bf55c3-3765-11ed-8179-780cb8584cd2.jpg -> Annotation:C:/Users/DELL/tensorflow_obj_detection/object-Detection-using-Tensorflow/Tensorflow/workspace/images/collectedimages/livelong\\livelong.39bf55c3-3765-11ed-8179-780cb8584cd2.xml\n",
      "Image:C:\\Users\\DELL\\tensorflow_obj_detection\\object-Detection-using-Tensorflow\\Tensorflow\\workspace\\images\\collectedimages\\livelong\\livelong.43b38e1f-3764-11ed-a1bd-780cb8584cd2.jpg -> Annotation:C:/Users/DELL/tensorflow_obj_detection/object-Detection-using-Tensorflow/Tensorflow/workspace/images/collectedimages/livelong\\livelong.43b38e1f-3764-11ed-a1bd-780cb8584cd2.xml\n",
      "Image:C:\\Users\\DELL\\tensorflow_obj_detection\\object-Detection-using-Tensorflow\\Tensorflow\\workspace\\images\\collectedimages\\livelong\\livelong.492a54e9-3764-11ed-aa49-780cb8584cd2.jpg -> Annotation:C:/Users/DELL/tensorflow_obj_detection/object-Detection-using-Tensorflow/Tensorflow/workspace/images/collectedimages/livelong\\livelong.492a54e9-3764-11ed-aa49-780cb8584cd2.xml\n",
      "Image:C:\\Users\\DELL\\tensorflow_obj_detection\\object-Detection-using-Tensorflow\\Tensorflow\\workspace\\images\\collectedimages\\livelong\\livelong.4583b334-3764-11ed-8b18-780cb8584cd2.jpg -> Annotation:C:/Users/DELL/tensorflow_obj_detection/object-Detection-using-Tensorflow/Tensorflow/workspace/images/collectedimages/livelong\\livelong.4583b334-3764-11ed-8b18-780cb8584cd2.xml\n",
      "Image:C:\\Users\\DELL\\tensorflow_obj_detection\\object-Detection-using-Tensorflow\\Tensorflow\\workspace\\images\\collectedimages\\livelong\\livelong.34496f3b-3765-11ed-bc48-780cb8584cd2.jpg -> Annotation:C:/Users/DELL/tensorflow_obj_detection/object-Detection-using-Tensorflow/Tensorflow/workspace/images/collectedimages/livelong\\livelong.34496f3b-3765-11ed-bc48-780cb8584cd2.xml\n",
      "Cancel creation.\n",
      "Image:C:\\Users\\DELL\\tensorflow_obj_detection\\object-Detection-using-Tensorflow\\Tensorflow\\workspace\\images\\collectedimages\\livelong\\livelong.47580b3b-3764-11ed-9313-780cb8584cd2.jpg -> Annotation:C:/Users/DELL/tensorflow_obj_detection/object-Detection-using-Tensorflow/Tensorflow/workspace/images/collectedimages/livelong\\livelong.47580b3b-3764-11ed-9313-780cb8584cd2.xml\n",
      "Cancel creation.\n",
      "Image:C:\\Users\\DELL\\tensorflow_obj_detection\\object-Detection-using-Tensorflow\\Tensorflow\\workspace\\images\\collectedimages\\livelong\\livelong.b1fcacae-3763-11ed-a9f3-780cb8584cd2.jpg -> Annotation:C:/Users/DELL/tensorflow_obj_detection/object-Detection-using-Tensorflow/Tensorflow/workspace/images/collectedimages/livelong\\livelong.b1fcacae-3763-11ed-a9f3-780cb8584cd2.xml\n",
      "Cancel creation.\n",
      "Image:C:\\Users\\DELL\\tensorflow_obj_detection\\object-Detection-using-Tensorflow\\Tensorflow\\workspace\\images\\collectedimages\\livelong\\livelong.b02ba051-3763-11ed-8b8b-780cb8584cd2.jpg -> Annotation:C:/Users/DELL/tensorflow_obj_detection/object-Detection-using-Tensorflow/Tensorflow/workspace/images/collectedimages/livelong\\livelong.b02ba051-3763-11ed-8b8b-780cb8584cd2.xml\n",
      "Image:C:\\Users\\DELL\\tensorflow_obj_detection\\object-Detection-using-Tensorflow\\Tensorflow\\workspace\\images\\collectedimages\\livelong\\livelong.b3ce47a7-3763-11ed-bbeb-780cb8584cd2.jpg -> Annotation:C:/Users/DELL/tensorflow_obj_detection/object-Detection-using-Tensorflow/Tensorflow/workspace/images/collectedimages/livelong\\livelong.b3ce47a7-3763-11ed-bbeb-780cb8584cd2.xml\n",
      "Image:C:\\Users\\DELL\\tensorflow_obj_detection\\object-Detection-using-Tensorflow\\Tensorflow\\workspace\\images\\collectedimages\\thankyou\\thankyou.9e8320e6-3763-11ed-94c9-780cb8584cd2.jpg -> Annotation:C:/Users/DELL/tensorflow_obj_detection/object-Detection-using-Tensorflow/Tensorflow/workspace/images/collectedimages/thankyou\\thankyou.9e8320e6-3763-11ed-94c9-780cb8584cd2.xml\n",
      "Image:C:\\Users\\DELL\\tensorflow_obj_detection\\object-Detection-using-Tensorflow\\Tensorflow\\workspace\\images\\collectedimages\\thankyou\\thankyou.29e64408-3765-11ed-8c7a-780cb8584cd2.jpg -> Annotation:C:/Users/DELL/tensorflow_obj_detection/object-Detection-using-Tensorflow/Tensorflow/workspace/images/collectedimages/thankyou\\thankyou.29e64408-3765-11ed-8c7a-780cb8584cd2.xml\n",
      "Image:C:\\Users\\DELL\\tensorflow_obj_detection\\object-Detection-using-Tensorflow\\Tensorflow\\workspace\\images\\collectedimages\\thankyou\\thankyou.35a67579-3764-11ed-9cd1-780cb8584cd2.jpg -> Annotation:C:/Users/DELL/tensorflow_obj_detection/object-Detection-using-Tensorflow/Tensorflow/workspace/images/collectedimages/thankyou\\thankyou.35a67579-3764-11ed-9cd1-780cb8584cd2.xml\n",
      "Image:C:\\Users\\DELL\\tensorflow_obj_detection\\object-Detection-using-Tensorflow\\Tensorflow\\workspace\\images\\collectedimages\\thankyou\\thankyou.246f683c-3765-11ed-a6ea-780cb8584cd2.jpg -> Annotation:C:/Users/DELL/tensorflow_obj_detection/object-Detection-using-Tensorflow/Tensorflow/workspace/images/collectedimages/thankyou\\thankyou.246f683c-3765-11ed-a6ea-780cb8584cd2.xml\n",
      "Image:C:\\Users\\DELL\\tensorflow_obj_detection\\object-Detection-using-Tensorflow\\Tensorflow\\workspace\\images\\collectedimages\\thankyou\\thankyou.394a65ec-3764-11ed-a352-780cb8584cd2.jpg -> Annotation:C:/Users/DELL/tensorflow_obj_detection/object-Detection-using-Tensorflow/Tensorflow/workspace/images/collectedimages/thankyou\\thankyou.394a65ec-3764-11ed-a352-780cb8584cd2.xml\n",
      "Image:C:\\Users\\DELL\\tensorflow_obj_detection\\object-Detection-using-Tensorflow\\Tensorflow\\workspace\\images\\collectedimages\\thankyou\\thankyou.2813c407-3765-11ed-8931-780cb8584cd2.jpg -> Annotation:C:/Users/DELL/tensorflow_obj_detection/object-Detection-using-Tensorflow/Tensorflow/workspace/images/collectedimages/thankyou\\thankyou.2813c407-3765-11ed-8931-780cb8584cd2.xml\n",
      "Image:C:\\Users\\DELL\\tensorflow_obj_detection\\object-Detection-using-Tensorflow\\Tensorflow\\workspace\\images\\collectedimages\\thankyou\\thankyou.377828d1-3764-11ed-81b2-780cb8584cd2.jpg -> Annotation:C:/Users/DELL/tensorflow_obj_detection/object-Detection-using-Tensorflow/Tensorflow/workspace/images/collectedimages/thankyou\\thankyou.377828d1-3764-11ed-81b2-780cb8584cd2.xml\n",
      "Image:C:\\Users\\DELL\\tensorflow_obj_detection\\object-Detection-using-Tensorflow\\Tensorflow\\workspace\\images\\collectedimages\\thankyou\\thankyou.2641277b-3765-11ed-908d-780cb8584cd2.jpg -> Annotation:C:/Users/DELL/tensorflow_obj_detection/object-Detection-using-Tensorflow/Tensorflow/workspace/images/collectedimages/thankyou\\thankyou.2641277b-3765-11ed-908d-780cb8584cd2.xml\n",
      "Image:C:\\Users\\DELL\\tensorflow_obj_detection\\object-Detection-using-Tensorflow\\Tensorflow\\workspace\\images\\collectedimages\\thankyou\\thankyou.a3f7ed30-3763-11ed-b42b-780cb8584cd2.jpg -> Annotation:C:/Users/DELL/tensorflow_obj_detection/object-Detection-using-Tensorflow/Tensorflow/workspace/images/collectedimages/thankyou\\thankyou.a3f7ed30-3763-11ed-b42b-780cb8584cd2.xml\n",
      "Image:C:\\Users\\DELL\\tensorflow_obj_detection\\object-Detection-using-Tensorflow\\Tensorflow\\workspace\\images\\collectedimages\\thankyou\\thankyou.a225a097-3763-11ed-bbcb-780cb8584cd2.jpg -> Annotation:C:/Users/DELL/tensorflow_obj_detection/object-Detection-using-Tensorflow/Tensorflow/workspace/images/collectedimages/thankyou\\thankyou.a225a097-3763-11ed-bbcb-780cb8584cd2.xml\n",
      "Image:C:\\Users\\DELL\\tensorflow_obj_detection\\object-Detection-using-Tensorflow\\Tensorflow\\workspace\\images\\collectedimages\\thankyou\\thankyou.a0526ff6-3763-11ed-9ae8-780cb8584cd2.jpg -> Annotation:C:/Users/DELL/tensorflow_obj_detection/object-Detection-using-Tensorflow/Tensorflow/workspace/images/collectedimages/thankyou\\thankyou.a0526ff6-3763-11ed-9ae8-780cb8584cd2.xml\n",
      "Image:C:\\Users\\DELL\\tensorflow_obj_detection\\object-Detection-using-Tensorflow\\Tensorflow\\workspace\\images\\collectedimages\\livelong\\livelong.361b10de-3765-11ed-96d1-780cb8584cd2.jpg -> Annotation:C:/Users/DELL/tensorflow_obj_detection/object-Detection-using-Tensorflow/Tensorflow/workspace/images/collectedimages/livelong\\livelong.361b10de-3765-11ed-96d1-780cb8584cd2.xml\n",
      "Image:C:\\Users\\DELL\\tensorflow_obj_detection\\object-Detection-using-Tensorflow\\Tensorflow\\workspace\\images\\collectedimages\\livelong\\livelong.361b10de-3765-11ed-96d1-780cb8584cd2.jpg -> Annotation:C:/Users/DELL/tensorflow_obj_detection/object-Detection-using-Tensorflow/Tensorflow/workspace/images/collectedimages/livelong\\livelong.361b10de-3765-11ed-96d1-780cb8584cd2.xml\n",
      "Image:C:\\Users\\DELL\\tensorflow_obj_detection\\object-Detection-using-Tensorflow\\Tensorflow\\workspace\\images\\collectedimages\\thumbsdown\\thumbsdown.1a117c8d-3765-11ed-a21e-780cb8584cd2.jpg -> Annotation:C:/Users/DELL/tensorflow_obj_detection/object-Detection-using-Tensorflow/Tensorflow/workspace/images/collectedimages/thumbsdown\\thumbsdown.1a117c8d-3765-11ed-a21e-780cb8584cd2.xml\n",
      "Image:C:\\Users\\DELL\\tensorflow_obj_detection\\object-Detection-using-Tensorflow\\Tensorflow\\workspace\\images\\collectedimages\\thumbsdown\\thumbsdown.8eb617ae-3763-11ed-be7e-780cb8584cd2.jpg -> Annotation:C:/Users/DELL/tensorflow_obj_detection/object-Detection-using-Tensorflow/Tensorflow/workspace/images/collectedimages/thumbsdown\\thumbsdown.8eb617ae-3763-11ed-be7e-780cb8584cd2.xml\n",
      "Image:C:\\Users\\DELL\\tensorflow_obj_detection\\object-Detection-using-Tensorflow\\Tensorflow\\workspace\\images\\collectedimages\\thumbsdown\\thumbsdown.25d6e124-3764-11ed-857a-780cb8584cd2.jpg -> Annotation:C:/Users/DELL/tensorflow_obj_detection/object-Detection-using-Tensorflow/Tensorflow/workspace/images/collectedimages/thumbsdown\\thumbsdown.25d6e124-3764-11ed-857a-780cb8584cd2.xml\n",
      "Image:C:\\Users\\DELL\\tensorflow_obj_detection\\object-Detection-using-Tensorflow\\Tensorflow\\workspace\\images\\collectedimages\\thumbsdown\\thumbsdown.27a814b9-3764-11ed-8ef9-780cb8584cd2.jpg -> Annotation:C:/Users/DELL/tensorflow_obj_detection/object-Detection-using-Tensorflow/Tensorflow/workspace/images/collectedimages/thumbsdown\\thumbsdown.27a814b9-3764-11ed-8ef9-780cb8584cd2.xml\n",
      "Image:C:\\Users\\DELL\\tensorflow_obj_detection\\object-Detection-using-Tensorflow\\Tensorflow\\workspace\\images\\collectedimages\\thumbsdown\\thumbsdown.149b4e31-3765-11ed-87d8-780cb8584cd2.jpg -> Annotation:C:/Users/DELL/tensorflow_obj_detection/object-Detection-using-Tensorflow/Tensorflow/workspace/images/collectedimages/thumbsdown\\thumbsdown.149b4e31-3765-11ed-87d8-780cb8584cd2.xml\n",
      "Image:C:\\Users\\DELL\\tensorflow_obj_detection\\object-Detection-using-Tensorflow\\Tensorflow\\workspace\\images\\collectedimages\\thumbsdown\\thumbsdown.166d2be9-3765-11ed-b97c-780cb8584cd2.jpg -> Annotation:C:/Users/DELL/tensorflow_obj_detection/object-Detection-using-Tensorflow/Tensorflow/workspace/images/collectedimages/thumbsdown\\thumbsdown.166d2be9-3765-11ed-b97c-780cb8584cd2.xml\n",
      "Image:C:\\Users\\DELL\\tensorflow_obj_detection\\object-Detection-using-Tensorflow\\Tensorflow\\workspace\\images\\collectedimages\\thumbsdown\\thumbsdown.183f6862-3765-11ed-bd71-780cb8584cd2.jpg -> Annotation:C:/Users/DELL/tensorflow_obj_detection/object-Detection-using-Tensorflow/Tensorflow/workspace/images/collectedimages/thumbsdown\\thumbsdown.183f6862-3765-11ed-bd71-780cb8584cd2.xml\n",
      "Image:C:\\Users\\DELL\\tensorflow_obj_detection\\object-Detection-using-Tensorflow\\Tensorflow\\workspace\\images\\collectedimages\\thumbsdown\\thumbsdown.297a811f-3764-11ed-a09c-780cb8584cd2.jpg -> Annotation:C:/Users/DELL/tensorflow_obj_detection/object-Detection-using-Tensorflow/Tensorflow/workspace/images/collectedimages/thumbsdown\\thumbsdown.297a811f-3764-11ed-a09c-780cb8584cd2.xml\n",
      "Image:C:\\Users\\DELL\\tensorflow_obj_detection\\object-Detection-using-Tensorflow\\Tensorflow\\workspace\\images\\collectedimages\\thumbsdown\\thumbsdown.2406b5cb-3764-11ed-8d3a-780cb8584cd2.jpg -> Annotation:C:/Users/DELL/tensorflow_obj_detection/object-Detection-using-Tensorflow/Tensorflow/workspace/images/collectedimages/thumbsdown\\thumbsdown.2406b5cb-3764-11ed-8d3a-780cb8584cd2.xml\n",
      "Image:C:\\Users\\DELL\\tensorflow_obj_detection\\object-Detection-using-Tensorflow\\Tensorflow\\workspace\\images\\collectedimages\\thumbsdown\\thumbsdown.94271fc8-3763-11ed-b915-780cb8584cd2.jpg -> Annotation:C:/Users/DELL/tensorflow_obj_detection/object-Detection-using-Tensorflow/Tensorflow/workspace/images/collectedimages/thumbsdown\\thumbsdown.94271fc8-3763-11ed-b915-780cb8584cd2.xml\n",
      "Image:C:\\Users\\DELL\\tensorflow_obj_detection\\object-Detection-using-Tensorflow\\Tensorflow\\workspace\\images\\collectedimages\\thumbsdown\\thumbsdown.908588c5-3763-11ed-9d2e-780cb8584cd2.jpg -> Annotation:C:/Users/DELL/tensorflow_obj_detection/object-Detection-using-Tensorflow/Tensorflow/workspace/images/collectedimages/thumbsdown\\thumbsdown.908588c5-3763-11ed-9d2e-780cb8584cd2.xml\n",
      "Image:C:\\Users\\DELL\\tensorflow_obj_detection\\object-Detection-using-Tensorflow\\Tensorflow\\workspace\\images\\collectedimages\\thumbsup\\thumbsup.0a4369d4-3765-11ed-9131-780cb8584cd2.jpg -> Annotation:C:/Users/DELL/tensorflow_obj_detection/object-Detection-using-Tensorflow/Tensorflow/workspace/images/collectedimages/thumbsup\\thumbsup.0a4369d4-3765-11ed-9131-780cb8584cd2.xml\n",
      "Image:C:\\Users\\DELL\\tensorflow_obj_detection\\object-Detection-using-Tensorflow\\Tensorflow\\workspace\\images\\collectedimages\\thumbsup\\thumbsup.04cd9d7f-3765-11ed-855a-780cb8584cd2.jpg -> Annotation:C:/Users/DELL/tensorflow_obj_detection/object-Detection-using-Tensorflow/Tensorflow/workspace/images/collectedimages/thumbsup\\thumbsup.04cd9d7f-3765-11ed-855a-780cb8584cd2.xml\n",
      "Image:C:\\Users\\DELL\\tensorflow_obj_detection\\object-Detection-using-Tensorflow\\Tensorflow\\workspace\\images\\collectedimages\\thumbsup\\thumbsup.7eb7ec89-3763-11ed-bc6a-780cb8584cd2.jpg -> Annotation:C:/Users/DELL/tensorflow_obj_detection/object-Detection-using-Tensorflow/Tensorflow/workspace/images/collectedimages/thumbsup\\thumbsup.7eb7ec89-3763-11ed-bc6a-780cb8584cd2.xml\n",
      "Image:C:\\Users\\DELL\\tensorflow_obj_detection\\object-Detection-using-Tensorflow\\Tensorflow\\workspace\\images\\collectedimages\\thumbsup\\thumbsup.15fa1489-3764-11ed-a681-780cb8584cd2.jpg -> Annotation:C:/Users/DELL/tensorflow_obj_detection/object-Detection-using-Tensorflow/Tensorflow/workspace/images/collectedimages/thumbsup\\thumbsup.15fa1489-3764-11ed-a681-780cb8584cd2.xml\n",
      "Image:C:\\Users\\DELL\\tensorflow_obj_detection\\object-Detection-using-Tensorflow\\Tensorflow\\workspace\\images\\collectedimages\\thumbsup\\thumbsup.17cccad9-3764-11ed-b04d-780cb8584cd2.jpg -> Annotation:C:/Users/DELL/tensorflow_obj_detection/object-Detection-using-Tensorflow/Tensorflow/workspace/images/collectedimages/thumbsup\\thumbsup.17cccad9-3764-11ed-b04d-780cb8584cd2.xml\n",
      "Image:C:\\Users\\DELL\\tensorflow_obj_detection\\object-Detection-using-Tensorflow\\Tensorflow\\workspace\\images\\collectedimages\\thumbsup\\thumbsup.069e98c2-3765-11ed-a2a3-780cb8584cd2.jpg -> Annotation:C:/Users/DELL/tensorflow_obj_detection/object-Detection-using-Tensorflow/Tensorflow/workspace/images/collectedimages/thumbsup\\thumbsup.069e98c2-3765-11ed-a2a3-780cb8584cd2.xml\n",
      "Image:C:\\Users\\DELL\\tensorflow_obj_detection\\object-Detection-using-Tensorflow\\Tensorflow\\workspace\\images\\collectedimages\\thumbsup\\thumbsup.199f0c88-3764-11ed-91de-780cb8584cd2.jpg -> Annotation:C:/Users/DELL/tensorflow_obj_detection/object-Detection-using-Tensorflow/Tensorflow/workspace/images/collectedimages/thumbsup\\thumbsup.199f0c88-3764-11ed-91de-780cb8584cd2.xml\n",
      "Image:C:\\Users\\DELL\\tensorflow_obj_detection\\object-Detection-using-Tensorflow\\Tensorflow\\workspace\\images\\collectedimages\\thumbsup\\thumbsup.8447e799-3763-11ed-95a3-780cb8584cd2.jpg -> Annotation:C:/Users/DELL/tensorflow_obj_detection/object-Detection-using-Tensorflow/Tensorflow/workspace/images/collectedimages/thumbsup\\thumbsup.8447e799-3763-11ed-95a3-780cb8584cd2.xml\n",
      "Image:C:\\Users\\DELL\\tensorflow_obj_detection\\object-Detection-using-Tensorflow\\Tensorflow\\workspace\\images\\collectedimages\\thumbsup\\thumbsup.14293f1d-3764-11ed-a9e1-780cb8584cd2.jpg -> Annotation:C:/Users/DELL/tensorflow_obj_detection/object-Detection-using-Tensorflow/Tensorflow/workspace/images/collectedimages/thumbsup\\thumbsup.14293f1d-3764-11ed-a9e1-780cb8584cd2.xml\n",
      "Image:C:\\Users\\DELL\\tensorflow_obj_detection\\object-Detection-using-Tensorflow\\Tensorflow\\workspace\\images\\collectedimages\\thumbsup\\thumbsup.08703824-3765-11ed-9a9c-780cb8584cd2.jpg -> Annotation:C:/Users/DELL/tensorflow_obj_detection/object-Detection-using-Tensorflow/Tensorflow/workspace/images/collectedimages/thumbsup\\thumbsup.08703824-3765-11ed-9a9c-780cb8584cd2.xml\n",
      "Image:C:\\Users\\DELL\\tensorflow_obj_detection\\object-Detection-using-Tensorflow\\Tensorflow\\workspace\\images\\collectedimages\\thumbsup\\thumbsup.80884526-3763-11ed-a866-780cb8584cd2.jpg -> Annotation:C:/Users/DELL/tensorflow_obj_detection/object-Detection-using-Tensorflow/Tensorflow/workspace/images/collectedimages/thumbsup\\thumbsup.80884526-3763-11ed-a866-780cb8584cd2.xml\n"
     ]
    }
   ],
   "source": [
    "!cd {LABELIMG_PATH} && python labelImg.py"
   ]
  },
  {
   "cell_type": "code",
   "execution_count": null,
   "id": "42f2fa0a",
   "metadata": {},
   "outputs": [],
   "source": [
    "TRAIN_PATH = os.path.join('Tensorflow', 'workspace', 'images', 'train')\n",
    "TEST_PATH = os.path.join('Tensorflow', 'workspace', 'images', 'test')\n",
    "ARCHIVE_PATH = os.path.join('Tensorflow', 'workspace', 'images', 'archive.tar.gz')"
   ]
  }
 ],
 "metadata": {
  "kernelspec": {
   "display_name": "tfod",
   "language": "python",
   "name": "tfod"
  },
  "language_info": {
   "codemirror_mode": {
    "name": "ipython",
    "version": 3
   },
   "file_extension": ".py",
   "mimetype": "text/x-python",
   "name": "python",
   "nbconvert_exporter": "python",
   "pygments_lexer": "ipython3",
   "version": "3.9.12"
  }
 },
 "nbformat": 4,
 "nbformat_minor": 5
}
