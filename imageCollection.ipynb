{
 "cells": [
  {
   "cell_type": "code",
   "execution_count": 1,
   "id": "c39c8c85",
   "metadata": {},
   "outputs": [
    {
     "name": "stdout",
     "output_type": "stream",
     "text": [
      "Collecting opencv-python\n",
      "  Using cached opencv_python-4.6.0.66-cp36-abi3-win_amd64.whl (35.6 MB)\n",
      "Collecting numpy>=1.17.3\n",
      "  Using cached numpy-1.23.3-cp39-cp39-win_amd64.whl (14.7 MB)\n",
      "Installing collected packages: numpy, opencv-python\n",
      "Successfully installed numpy-1.23.3 opencv-python-4.6.0.66\n"
     ]
    }
   ],
   "source": [
    "!pip install opencv-python"
   ]
  },
  {
   "cell_type": "code",
   "execution_count": 1,
   "id": "d03b419f",
   "metadata": {},
   "outputs": [],
   "source": [
    "import cv2 \n",
    "import uuid\n",
    "import os\n",
    "import time"
   ]
  },
  {
   "cell_type": "code",
   "execution_count": 2,
   "id": "25f6513d",
   "metadata": {},
   "outputs": [],
   "source": [
    "labels = ['thumbsup', 'thumbsdown', 'thankyou', 'livelong']\n",
    "number_imgs = 5"
   ]
  },
  {
   "cell_type": "code",
   "execution_count": 3,
   "id": "4a63b1aa",
   "metadata": {},
   "outputs": [],
   "source": [
    "IMAGES_PATH = os.path.join('Tensorflow', 'workspace', 'images', 'collectedimages') "
   ]
  },
  {
   "cell_type": "code",
   "execution_count": 4,
   "id": "fc25737b",
   "metadata": {},
   "outputs": [],
   "source": [
    "if not os.path.exists(IMAGES_PATH):\n",
    "    if os.name == 'posix':\n",
    "        !mkdir -p {IMAGES_PATH}\n",
    "    if os.name == 'nt':\n",
    "         !mkdir {IMAGES_PATH}\n",
    "for label in labels:\n",
    "    path = os.path.join(IMAGES_PATH, label)\n",
    "    if not os.path.exists(path):\n",
    "        !mkdir {path}"
   ]
  },
  {
   "cell_type": "code",
   "execution_count": 6,
   "id": "abbb4ee8",
   "metadata": {},
   "outputs": [
    {
     "name": "stdout",
     "output_type": "stream",
     "text": [
      "Collecting images for thumbsup\n",
      "Collecting image 0\n",
      "Collecting image 1\n",
      "Collecting image 2\n",
      "Collecting image 3\n",
      "Collecting image 4\n",
      "Collecting images for thumbsdown\n",
      "Collecting image 0\n",
      "Collecting image 1\n",
      "Collecting image 2\n",
      "Collecting image 3\n",
      "Collecting image 4\n",
      "Collecting images for thankyou\n",
      "Collecting image 0\n",
      "Collecting image 1\n",
      "Collecting image 2\n",
      "Collecting image 3\n",
      "Collecting image 4\n",
      "Collecting images for livelong\n",
      "Collecting image 0\n",
      "Collecting image 1\n",
      "Collecting image 2\n",
      "Collecting image 3\n",
      "Collecting image 4\n"
     ]
    }
   ],
   "source": [
    "for label in labels:\n",
    "    cap = cv2.VideoCapture(0)\n",
    "    print('Collecting images for {}'.format(label))\n",
    "    time.sleep(10)\n",
    "    for imgnum in range(number_imgs):\n",
    "        print('Collecting image {}'.format(imgnum))\n",
    "        ret, frame = cap.read()\n",
    "        imgname = os.path.join(IMAGES_PATH,label,label+'.'+'{}.jpg'.format(str(uuid.uuid1())))\n",
    "        cv2.imwrite(imgname, frame)\n",
    "        cv2.imshow('frame', frame)\n",
    "        time.sleep(3)\n",
    "\n",
    "        if cv2.waitKey(1) & 0xFF == ord('q'):\n",
    "            break\n",
    "cap.release()\n",
    "cv2.destroyAllWindows()"
   ]
  },
  {
   "cell_type": "code",
   "execution_count": 12,
   "id": "4e11108e",
   "metadata": {},
   "outputs": [
    {
     "name": "stdout",
     "output_type": "stream",
     "text": [
      "Collecting pyqt5\n",
      "  Downloading PyQt5-5.15.7-cp37-abi3-win_amd64.whl (6.8 MB)\n",
      "     ---------------------------------------- 6.8/6.8 MB 1.6 MB/s eta 0:00:00\n",
      "Collecting lxml\n",
      "  Downloading lxml-4.9.1-cp39-cp39-win_amd64.whl (3.6 MB)\n",
      "     ---------------------------------------- 3.6/3.6 MB 1.7 MB/s eta 0:00:00\n",
      "Collecting PyQt5-Qt5>=5.15.0\n",
      "  Downloading PyQt5_Qt5-5.15.2-py3-none-win_amd64.whl (50.1 MB)\n",
      "     -------------------------------------- 50.1/50.1 MB 857.3 kB/s eta 0:00:00\n",
      "Collecting PyQt5-sip<13,>=12.11\n",
      "  Downloading PyQt5_sip-12.11.0-cp39-cp39-win_amd64.whl (78 kB)\n",
      "     -------------------------------------- 78.3/78.3 kB 544.5 kB/s eta 0:00:00\n",
      "Installing collected packages: PyQt5-Qt5, PyQt5-sip, lxml, pyqt5\n",
      "Successfully installed PyQt5-Qt5-5.15.2 PyQt5-sip-12.11.0 lxml-4.9.1 pyqt5-5.15.7\n"
     ]
    }
   ],
   "source": [
    "!pip install --upgrade pyqt5 lxml"
   ]
  },
  {
   "cell_type": "code",
   "execution_count": 8,
   "id": "ffcb133c",
   "metadata": {},
   "outputs": [],
   "source": [
    "LABELIMG_PATH = os.path.join('Tensorflow', 'labelimg')"
   ]
  },
  {
   "cell_type": "code",
   "execution_count": 16,
   "id": "edc82f14",
   "metadata": {},
   "outputs": [
    {
     "name": "stderr",
     "output_type": "stream",
     "text": [
      "Cloning into 'Tensorflow\\labelimg'...\n"
     ]
    }
   ],
   "source": [
    "if not os.path.exists(LABELIMG_PATH):\n",
    "    !mkdir {LABELIMG_PATH}\n",
    "    !git clone https://github.com/tzutalin/labelImg {LABELIMG_PATH}"
   ]
  },
  {
   "cell_type": "code",
   "execution_count": 9,
   "id": "7bddb5a0",
   "metadata": {},
   "outputs": [],
   "source": [
    "if os.name == 'posix':\n",
    "    !cd {LABELIMG_PATH} && make pyrcc5\n",
    "if os.name =='nt':\n",
    "    !cd {LABELIMG_PATH} && pyrcc5 -o libs/resources.py resources.qrc"
   ]
  },
  {
   "cell_type": "code",
   "execution_count": 10,
   "id": "532fde10",
   "metadata": {},
   "outputs": [
    {
     "name": "stdout",
     "output_type": "stream",
     "text": [
      "Cancel creation.\n",
      "Cancel creation.\n",
      "Image:C:\\Users\\DELL\\tensorflow_obj_detection\\object-Detection-using-Tensorflow\\Tensorflow\\workspace\\images\\collectedimages\\livelong\\livelong.e43007c3-4188-11ed-9cb6-780cb8584cd2.jpg -> Annotation:C:/Users/DELL/tensorflow_obj_detection/object-Detection-using-Tensorflow/Tensorflow/workspace/images/collectedimages/livelong\\livelong.e43007c3-4188-11ed-9cb6-780cb8584cd2.xml\n",
      "Image:C:\\Users\\DELL\\tensorflow_obj_detection\\object-Detection-using-Tensorflow\\Tensorflow\\workspace\\images\\collectedimages\\livelong\\livelong.e603fe14-4188-11ed-be38-780cb8584cd2.jpg -> Annotation:C:/Users/DELL/tensorflow_obj_detection/object-Detection-using-Tensorflow/Tensorflow/workspace/images/collectedimages/livelong\\livelong.e603fe14-4188-11ed-be38-780cb8584cd2.xml\n",
      "Image:C:\\Users\\DELL\\tensorflow_obj_detection\\object-Detection-using-Tensorflow\\Tensorflow\\workspace\\images\\collectedimages\\livelong\\livelong.a0ed0432-4188-11ed-8840-780cb8584cd2.jpg -> Annotation:C:/Users/DELL/tensorflow_obj_detection/object-Detection-using-Tensorflow/Tensorflow/workspace/images/collectedimages/livelong\\livelong.a0ed0432-4188-11ed-8840-780cb8584cd2.xml\n",
      "Image:C:\\Users\\DELL\\tensorflow_obj_detection\\object-Detection-using-Tensorflow\\Tensorflow\\workspace\\images\\collectedimages\\livelong\\livelong.9f18a863-4188-11ed-b233-780cb8584cd2.jpg -> Annotation:C:/Users/DELL/tensorflow_obj_detection/object-Detection-using-Tensorflow/Tensorflow/workspace/images/collectedimages/livelong\\livelong.9f18a863-4188-11ed-b233-780cb8584cd2.xml\n",
      "Image:C:\\Users\\DELL\\tensorflow_obj_detection\\object-Detection-using-Tensorflow\\Tensorflow\\workspace\\images\\collectedimages\\thankyou\\thankyou.8b7d9baa-4188-11ed-89cc-780cb8584cd2.jpg -> Annotation:C:/Users/DELL/tensorflow_obj_detection/object-Detection-using-Tensorflow/Tensorflow/workspace/images/collectedimages/thankyou\\thankyou.8b7d9baa-4188-11ed-89cc-780cb8584cd2.xml\n",
      "Image:C:\\Users\\DELL\\tensorflow_obj_detection\\object-Detection-using-Tensorflow\\Tensorflow\\workspace\\images\\collectedimages\\thankyou\\thankyou.d0a0e80a-4188-11ed-85ef-780cb8584cd2.jpg -> Annotation:C:/Users/DELL/tensorflow_obj_detection/object-Detection-using-Tensorflow/Tensorflow/workspace/images/collectedimages/thankyou\\thankyou.d0a0e80a-4188-11ed-85ef-780cb8584cd2.xml\n",
      "Image:C:\\Users\\DELL\\tensorflow_obj_detection\\object-Detection-using-Tensorflow\\Tensorflow\\workspace\\images\\collectedimages\\thankyou\\thankyou.d61b71a9-4188-11ed-b828-780cb8584cd2.jpg -> Annotation:C:/Users/DELL/tensorflow_obj_detection/object-Detection-using-Tensorflow/Tensorflow/workspace/images/collectedimages/thankyou\\thankyou.d61b71a9-4188-11ed-b828-780cb8584cd2.xml\n",
      "Image:C:\\Users\\DELL\\tensorflow_obj_detection\\object-Detection-using-Tensorflow\\Tensorflow\\workspace\\images\\collectedimages\\thankyou\\thankyou.d2755bdf-4188-11ed-9413-780cb8584cd2.jpg -> Annotation:C:/Users/DELL/tensorflow_obj_detection/object-Detection-using-Tensorflow/Tensorflow/workspace/images/collectedimages/thankyou\\thankyou.d2755bdf-4188-11ed-9413-780cb8584cd2.xml\n",
      "Image:C:\\Users\\DELL\\tensorflow_obj_detection\\object-Detection-using-Tensorflow\\Tensorflow\\workspace\\images\\collectedimages\\thumbsdown\\thumbsdown.c0b9aefc-4188-11ed-8730-780cb8584cd2.jpg -> Annotation:C:/Users/DELL/tensorflow_obj_detection/object-Detection-using-Tensorflow/Tensorflow/workspace/images/collectedimages/thumbsdown\\thumbsdown.c0b9aefc-4188-11ed-8730-780cb8584cd2.xml\n",
      "Image:C:\\Users\\DELL\\tensorflow_obj_detection\\object-Detection-using-Tensorflow\\Tensorflow\\workspace\\images\\collectedimages\\thumbsdown\\thumbsdown.c28ea423-4188-11ed-96da-780cb8584cd2.jpg -> Annotation:C:/Users/DELL/tensorflow_obj_detection/object-Detection-using-Tensorflow/Tensorflow/workspace/images/collectedimages/thumbsdown\\thumbsdown.c28ea423-4188-11ed-96da-780cb8584cd2.xml\n",
      "Image:C:\\Users\\DELL\\tensorflow_obj_detection\\object-Detection-using-Tensorflow\\Tensorflow\\workspace\\images\\collectedimages\\thumbsdown\\thumbsdown.c4630fa9-4188-11ed-b084-780cb8584cd2.jpg -> Annotation:C:/Users/DELL/tensorflow_obj_detection/object-Detection-using-Tensorflow/Tensorflow/workspace/images/collectedimages/thumbsdown\\thumbsdown.c4630fa9-4188-11ed-b084-780cb8584cd2.xml\n",
      "Image:C:\\Users\\DELL\\tensorflow_obj_detection\\object-Detection-using-Tensorflow\\Tensorflow\\workspace\\images\\collectedimages\\thumbsdown\\thumbsdown.c6363649-4188-11ed-9d92-780cb8584cd2.jpg -> Annotation:C:/Users/DELL/tensorflow_obj_detection/object-Detection-using-Tensorflow/Tensorflow/workspace/images/collectedimages/thumbsdown\\thumbsdown.c6363649-4188-11ed-9d92-780cb8584cd2.xml\n",
      "Image:C:\\Users\\DELL\\tensorflow_obj_detection\\object-Detection-using-Tensorflow\\Tensorflow\\workspace\\images\\collectedimages\\thumbsup\\thumbsup.72f05bd6-4188-11ed-9d74-780cb8584cd2.jpg -> Annotation:C:/Users/DELL/tensorflow_obj_detection/object-Detection-using-Tensorflow/Tensorflow/workspace/images/collectedimages/thumbsup\\thumbsup.72f05bd6-4188-11ed-9d74-780cb8584cd2.xml\n",
      "Image:C:\\Users\\DELL\\tensorflow_obj_detection\\object-Detection-using-Tensorflow\\Tensorflow\\workspace\\images\\collectedimages\\thumbsup\\thumbsup.b0e3852b-4188-11ed-a3ba-780cb8584cd2.jpg -> Annotation:C:/Users/DELL/tensorflow_obj_detection/object-Detection-using-Tensorflow/Tensorflow/workspace/images/collectedimages/thumbsup\\thumbsup.b0e3852b-4188-11ed-a3ba-780cb8584cd2.xml\n",
      "Image:C:\\Users\\DELL\\tensorflow_obj_detection\\object-Detection-using-Tensorflow\\Tensorflow\\workspace\\images\\collectedimages\\thumbsup\\thumbsup.b2b4c163-4188-11ed-91e1-780cb8584cd2.jpg -> Annotation:C:/Users/DELL/tensorflow_obj_detection/object-Detection-using-Tensorflow/Tensorflow/workspace/images/collectedimages/thumbsup\\thumbsup.b2b4c163-4188-11ed-91e1-780cb8584cd2.xml\n",
      "Image:C:\\Users\\DELL\\tensorflow_obj_detection\\object-Detection-using-Tensorflow\\Tensorflow\\workspace\\images\\collectedimages\\thumbsup\\thumbsup.b65de65e-4188-11ed-ae79-780cb8584cd2.jpg -> Annotation:C:/Users/DELL/tensorflow_obj_detection/object-Detection-using-Tensorflow/Tensorflow/workspace/images/collectedimages/thumbsup\\thumbsup.b65de65e-4188-11ed-ae79-780cb8584cd2.xml\n"
     ]
    }
   ],
   "source": [
    "!cd {LABELIMG_PATH} && python labelImg.py"
   ]
  },
  {
   "cell_type": "code",
   "execution_count": 21,
   "id": "1ed936a2",
   "metadata": {},
   "outputs": [],
   "source": [
    "TRAIN_PATH = os.path.join('Tensorflow', 'workspace', 'images', 'train')\n",
    "TEST_PATH = os.path.join('Tensorflow', 'workspace', 'images', 'test')\n",
    "ARCHIVE_PATH = os.path.join('Tensorflow', 'workspace', 'images', 'archive.tar.gz')"
   ]
  },
  {
   "cell_type": "code",
   "execution_count": 22,
   "id": "d767462e",
   "metadata": {},
   "outputs": [],
   "source": [
    "!tar -czf {ARCHIVE_PATH} {TRAIN_PATH} {TEST_PATH}"
   ]
  }
 ],
 "metadata": {
  "kernelspec": {
   "display_name": "tfod",
   "language": "python",
   "name": "tfod"
  },
  "language_info": {
   "codemirror_mode": {
    "name": "ipython",
    "version": 3
   },
   "file_extension": ".py",
   "mimetype": "text/x-python",
   "name": "python",
   "nbconvert_exporter": "python",
   "pygments_lexer": "ipython3",
   "version": "3.9.12"
  }
 },
 "nbformat": 4,
 "nbformat_minor": 5
}
